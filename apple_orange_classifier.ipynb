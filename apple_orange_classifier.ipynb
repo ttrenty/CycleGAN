{
 "cells": [
  {
   "cell_type": "code",
   "execution_count": null,
   "metadata": {},
   "outputs": [],
   "source": [
    "import os\n",
    "\n",
    "import torch\n",
    "from torch.utils.data import Dataset, DataLoader\n",
    "from torchvision import transforms\n",
    "import torchvision.datasets as datasets\n",
    "from PIL import Image\n",
    "from sklearn.metrics import accuracy_score, ConfusionMatrixDisplay\n",
    "\n",
    "import matplotlib.pyplot as plt"
   ]
  },
  {
   "cell_type": "code",
   "execution_count": null,
   "metadata": {},
   "outputs": [],
   "source": [
    "# force to reload the internal modules\n",
    "import sys\n",
    "sys.modules.pop('classifier_data', None)\n",
    "sys.modules.pop('cnn_classifier', None)\n",
    "\n",
    "import classifier_data\n",
    "import cnn_classifier"
   ]
  },
  {
   "cell_type": "code",
   "execution_count": null,
   "metadata": {},
   "outputs": [],
   "source": [
    "device = torch.device(\"cuda\" if torch.cuda.is_available() else \"cpu\")\n",
    "cpu = torch.device(\"cpu\")\n",
    "\n",
    "print(f\"Using device: {device}\")"
   ]
  },
  {
   "cell_type": "code",
   "execution_count": null,
   "metadata": {},
   "outputs": [],
   "source": [
    "# --- Extract data from local files\n",
    "\n",
    "data_path = os.path.join(\".\", \"datasets\", \"apple2orange64\")\n",
    "img_size = 64\n",
    "\n",
    "transformations = [\n",
    "    transforms.Resize(int(img_size * 1.12), Image.BICUBIC),\n",
    "    transforms.RandomCrop((img_size, img_size)),\n",
    "    transforms.RandomHorizontalFlip(),\n",
    "    transforms.ToTensor(),\n",
    "    transforms.Normalize((0.5, 0.5, 0.5), (0.5, 0.5, 0.5)),\n",
    "]\n",
    "\n",
    "train_dataset = classifier_data.BinaryClassificationImageDataset(\n",
    "    data_path,\n",
    "    transformations=transformations,\n",
    "    mode=\"train\"\n",
    ")\n",
    "\n",
    "test_dataset = classifier_data.BinaryClassificationImageDataset(\n",
    "    data_path,\n",
    "    transformations=transformations,\n",
    "    mode=\"validation\"\n",
    ")\n",
    "\n",
    "classifier_data.show_sample(train_dataset, \"Apple\", \"Orange\")"
   ]
  },
  {
   "cell_type": "code",
   "execution_count": null,
   "metadata": {},
   "outputs": [],
   "source": [
    "# --- Create the model\n",
    "\n",
    "model = cnn_classifier.ConvolutionalClassifier()"
   ]
  },
  {
   "cell_type": "code",
   "execution_count": null,
   "metadata": {},
   "outputs": [],
   "source": [
    "# --- Test the model before training\n",
    "\n",
    "test_data_loader = DataLoader(test_dataset, batch_size=len(test_dataset), shuffle=False)\n",
    "x_test_img, y_test = next(iter(test_data_loader))\n",
    "\n",
    "with torch.no_grad():\n",
    "    y_test_pred = model(x_test_img).argmax(dim=1)\n",
    "\n",
    "accuracy = accuracy_score(y_test, y_test_pred)\n",
    "print(f\"{accuracy = }\")\n",
    "\n",
    "ConfusionMatrixDisplay.from_predictions(y_test, y_test_pred)"
   ]
  },
  {
   "cell_type": "code",
   "execution_count": null,
   "metadata": {},
   "outputs": [],
   "source": [
    "# --- Train the model\n",
    "\n",
    "model.to(device)\n",
    "\n",
    "\n",
    "epoch_values, loss_values = cnn_classifier.train(\n",
    "    model,\n",
    "    device=device,\n",
    "    train_data=train_dataset,\n",
    "    nb_epochs=100,\n",
    "    batch_size=64,\n",
    "    learning_rate=0.01\n",
    ")\n",
    "\n",
    "model.to(cpu)\n",
    "\n",
    "\n",
    "plt.title(\"Loss over epochs\")\n",
    "plt.plot(epoch_values, loss_values)\n",
    "plt.grid()\n",
    "plt.xlabel(\"Epoch\")\n",
    "plt.ylabel(\"Loss\")\n",
    "plt.show()"
   ]
  },
  {
   "cell_type": "code",
   "execution_count": null,
   "metadata": {},
   "outputs": [],
   "source": [
    "# --- Test the model after training\n",
    "\n",
    "test_data_loader = DataLoader(test_dataset, batch_size=len(test_dataset), shuffle=False)\n",
    "x_test_img, y_test = next(iter(test_data_loader))\n",
    "\n",
    "with torch.no_grad():\n",
    "    y_test_pred = model(x_test_img).argmax(dim=1)\n",
    "\n",
    "accuracy = accuracy_score(y_test, y_test_pred)\n",
    "print(f\"{accuracy = }\")\n",
    "\n",
    "ConfusionMatrixDisplay.from_predictions(y_test, y_test_pred)"
   ]
  },
  {
   "cell_type": "code",
   "execution_count": null,
   "metadata": {},
   "outputs": [],
   "source": [
    "# --- Test the model after training\n",
    "\n",
    "test_data_loader = DataLoader(test_dataset, batch_size=1, shuffle=False)\n",
    "\n",
    "\n",
    "y_test_pred = []\n",
    "y_test = []\n",
    "for i, batch in enumerate(test_data_loader):\n",
    "    x_test_img, y_test_ = batch\n",
    "    y_test_pred.append(model(x_test_img).argmax(dim=1).item())\n",
    "    y_test.append(y_test_.item())\n",
    "\n",
    "accuracy = accuracy_score(y_test, y_test_pred)\n",
    "print(f\"{accuracy = }\")\n",
    "\n",
    "ConfusionMatrixDisplay.from_predictions(y_test, y_test_pred)"
   ]
  },
  {
   "cell_type": "markdown",
   "metadata": {},
   "source": [
    "**Import Data to Classify**"
   ]
  },
  {
   "cell_type": "code",
   "execution_count": null,
   "metadata": {},
   "outputs": [],
   "source": [
    "# input_dataset_folder = \"inferences/fdcgan/\"\n",
    "input_dataset_folder = \"inferences/cycle-gan/fdcgan/\"\n",
    "\n",
    "input_dataset = classifier_data.BinaryClassificationImageDataset(\n",
    "    input_dataset_folder,\n",
    "    transformations=transformations,\n",
    "    mode=\"apple2orange64\"\n",
    "    # mode=\"orange2apple64\"\n",
    ")\n",
    "\n",
    "input_dataset_loader = DataLoader(input_dataset, batch_size=1, shuffle=False)\n",
    "\n",
    "print(f\"Number of images: {len(input_dataset)}\")\n",
    "print(type(input_dataset_loader))\n",
    "# x_test_img, y_test = next(iter(input_dataset_loader))\n",
    "\n",
    "y_test_pred = []\n",
    "y_test = []\n",
    "for i, batch in enumerate(input_dataset_loader):\n",
    "    x_test_img, y_test_ = batch\n",
    "    y_test_pred.append(model(x_test_img).argmax(dim=1).item())\n",
    "    y_test.append(y_test_.item())\n",
    "\n",
    "# with torch.no_grad():\n",
    "#     y_test_pred = model(x_test_img).argmax(dim=1)\n",
    "\n",
    "accuracy = accuracy_score(y_test, y_test_pred)\n",
    "print(f\"{accuracy = }\")\n",
    "\n",
    "ConfusionMatrixDisplay.from_predictions(y_test, y_test_pred)"
   ]
  }
 ],
 "metadata": {
  "kernelspec": {
   "display_name": "machine-learning",
   "language": "python",
   "name": "python3"
  },
  "language_info": {
   "codemirror_mode": {
    "name": "ipython",
    "version": 3
   },
   "file_extension": ".py",
   "mimetype": "text/x-python",
   "name": "python",
   "nbconvert_exporter": "python",
   "pygments_lexer": "ipython3",
   "version": "3.8.19"
  }
 },
 "nbformat": 4,
 "nbformat_minor": 2
}
